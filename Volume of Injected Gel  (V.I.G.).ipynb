{
 "cells": [
  {
   "cell_type": "markdown",
   "id": "7e3ff358",
   "metadata": {},
   "source": [
    "# Volume of Injected Gel  (V.I.G.)\n",
    "Designed by Hao Wang $$ $$\n",
    "Version 1.2 --last update 2023-Feb-10$$ $$\n",
    "Email harrywang11@126.com for any problem"
   ]
  },
  {
   "cell_type": "code",
   "execution_count": 92,
   "id": "60bbb7ae",
   "metadata": {},
   "outputs": [],
   "source": [
    "# not so necessary imports\n",
    "import numpy as np\n",
    "from matplotlib import pyplot as plt\n",
    "from skimage import io\n",
    "import cv2\n",
    "from skimage import transform, morphology, filters\n",
    "import os\n",
    "from PIL import Image, ImageFilter\n",
    "import scipy"
   ]
  },
  {
   "cell_type": "code",
   "execution_count": 139,
   "id": "293d0ebe",
   "metadata": {},
   "outputs": [
    {
     "data": {
      "text/plain": [
       "<matplotlib.image.AxesImage at 0x7fc6e9b43d00>"
      ]
     },
     "execution_count": 139,
     "metadata": {},
     "output_type": "execute_result"
    },
    {
     "data": {
      "image/png": "[encoded data removed]",
      "text/plain": [
       "<Figure size 1000x1000 with 1 Axes>"
      ]
     },
     "metadata": {
      "needs_background": "light"
     },
     "output_type": "display_data"
    }
   ],
   "source": [
    "loc = os.getcwd() \n",
    "dirr = loc+'/wafer/'\n",
    "iggg = dirr+'wafer3.tif' # get file name\n",
    "img = io.imread(iggg)    # change file name here\n",
    "x=img[49,100:400,:] # get the gel reigion\n",
    "# scale to norm\n",
    "scale = np.amax(x)\n",
    "y = x/scale\n",
    "y=y*256\n",
    "int_x1 = y.astype(int)\n",
    "# get threshold\n",
    "thres=np.percentile(int_x1, 50)\n",
    "#print(thres)\n",
    "# change to binary\n",
    "int_x1[int_x1<thres]=0\n",
    "int_x1[int_x1>=thres]=1\n",
    "# fill the small holes\n",
    "tt=scipy.ndimage.binary_fill_holes(int_x1)\n",
    "# show image\n",
    "# remove noise\n",
    "kernel = np.ones((6, 6), np.uint8)\n",
    "gg = tt.astype('uint8')\n",
    "fig = plt.figure(figsize=(20, 20), dpi=50)\n",
    "opening = cv2.morphologyEx(gg, cv2.MORPH_OPEN, kernel)\n",
    "plt.imshow(opening)"
   ]
  },
  {
   "cell_type": "code",
   "execution_count": 90,
   "id": "36a6d830",
   "metadata": {},
   "outputs": [],
   "source": [
    "# calculate the area of wanted region\n",
    "def get_area(imm):\n",
    "    x=imm[100:400,:]\n",
    "    scale = np.amax(x)\n",
    "    y = x/scale\n",
    "    y=y*256\n",
    "    int_x1 = y.astype(int)\n",
    "    thres=np.percentile(int_x1, 50)\n",
    "    #print(thres)\n",
    "    int_x1[int_x1<thres]=0\n",
    "    int_x1[int_x1>=thres]=1\n",
    "    tt=scipy.ndimage.binary_fill_holes(int_x1)\n",
    "    # show image\n",
    "    kernel = np.ones((6, 6), np.uint8)\n",
    "    gg = tt.astype('uint8')\n",
    "    opening = cv2.morphologyEx(gg, cv2.MORPH_OPEN, kernel)\n",
    "    # return a percentage of the area coverage\n",
    "    return np.count_nonzero(opening)/300/512"
   ]
  },
  {
   "cell_type": "code",
   "execution_count": 140,
   "id": "b73bbd83",
   "metadata": {},
   "outputs": [
    {
     "data": {
      "text/plain": [
       "0.47051448567708326"
      ]
     },
     "execution_count": 140,
     "metadata": {},
     "output_type": "execute_result"
    }
   ],
   "source": [
    "# loop through all layer of gel in the z stack\n",
    "totoal = []\n",
    "for i in range(50):\n",
    "    locc = get_area(img[i])\n",
    "    totoal.append(locc)\n",
    "np.average(totoal[:40])"
   ]
  },
  {
   "cell_type": "code",
   "execution_count": 141,
   "id": "c62fb29e",
   "metadata": {},
   "outputs": [
    {
     "data": {
      "text/plain": [
       "[0.45508463541666666,\n",
       " 0.45427083333333335,\n",
       " 0.4558333333333333,\n",
       " 0.45647786458333334,\n",
       " 0.4543359375,\n",
       " 0.45669921875,\n",
       " 0.456875,\n",
       " 0.4568098958333333,\n",
       " 0.456328125,\n",
       " 0.4562109375,\n",
       " 0.4568359375,\n",
       " 0.4566731770833333,\n",
       " 0.4570182291666667,\n",
       " 0.45721354166666667,\n",
       " 0.45716796875,\n",
       " 0.4612174479166667,\n",
       " 0.46509765625,\n",
       " 0.4761783854166667,\n",
       " 0.49092447916666665,\n",
       " 0.49500651041666666,\n",
       " 0.48923177083333336,\n",
       " 0.468671875,\n",
       " 0.4594010416666667,\n",
       " 0.4729817708333333,\n",
       " 0.46240234375,\n",
       " 0.46745442708333335,\n",
       " 0.46177083333333335,\n",
       " 0.4954427083333333,\n",
       " 0.5083854166666667,\n",
       " 0.45830078125,\n",
       " 0.50544921875,\n",
       " 0.4757942708333333,\n",
       " 0.47254557291666666,\n",
       " 0.4999609375,\n",
       " 0.4664127604166667,\n",
       " 0.50611328125,\n",
       " 0.47447265625,\n",
       " 0.4881184895833333,\n",
       " 0.4919140625,\n",
       " 0.46349609375,\n",
       " 0.4536588541666667,\n",
       " 0.45406901041666664,\n",
       " 0.4563346354166667,\n",
       " 0.45680338541666665,\n",
       " 0.4571875,\n",
       " 0.45826171875,\n",
       " 0.4581380208333333,\n",
       " 0.45845703125,\n",
       " 0.45919921875,\n",
       " 0.4593424479166667]"
      ]
     },
     "execution_count": 141,
     "metadata": {},
     "output_type": "execute_result"
    }
   ],
   "source": [
    "totoal"
   ]
  },
  {
   "cell_type": "code",
   "execution_count": null,
   "id": "5ef25178",
   "metadata": {},
   "outputs": [],
   "source": []
  }
 ],
 "metadata": {
  "kernelspec": {
   "display_name": "Python 3 (ipykernel)",
   "language": "python",
   "name": "python3"
  },
  "language_info": {
   "codemirror_mode": {
    "name": "ipython",
    "version": 3
   },
   "file_extension": ".py",
   "mimetype": "text/x-python",
   "name": "python",
   "nbconvert_exporter": "python",
   "pygments_lexer": "ipython3",
   "version": "3.9.7"
  }
 },
 "nbformat": 4,
 "nbformat_minor": 5
}
